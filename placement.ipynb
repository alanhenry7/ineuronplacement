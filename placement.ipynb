{
  "nbformat": 4,
  "nbformat_minor": 0,
  "metadata": {
    "colab": {
      "name": "placement.ipynb",
      "provenance": []
    },
    "kernelspec": {
      "name": "python3",
      "display_name": "Python 3"
    },
    "language_info": {
      "name": "python"
    }
  },
  "cells": [
    {
      "cell_type": "code",
      "execution_count": null,
      "metadata": {
        "id": "gBkHA46Rtgbu"
      },
      "outputs": [],
      "source": [
        "# Create a function in python to read the text file and replace specific content\n",
        "# of the file.\n",
        "\n",
        "# File name example.txt\n",
        "# Origin file content This is a placement assignment\n",
        "# Replace string Placement should be replaced by\n",
        "\n",
        "# screening.\n",
        "\n",
        "# Replaced file content This is a screening assignment\n",
        "\n",
        "# 2. Demonstrate use of abstract class, multiple inheritance and decorator in\n",
        "# python using examples."
      ]
    },
    {
      "cell_type": "code",
      "source": [
        "def read_file(filepath, search_text,replace_text):\n",
        "  search_text = search_text\n",
        "\n",
        "\n",
        "  replace_text = replace_text\n",
        "\n",
        "\n",
        "  with open(filepath, 'r') as file:\n",
        "\n",
        "\n",
        "    data = file.read()\n",
        "\n",
        "\n",
        "    data = data.replace(search_text, replace_text)\n",
        "\n",
        "\n",
        "  with open(filepath, 'w') as file:\n",
        "\n",
        "\n",
        "    file.write(data)\n",
        "\n",
        "  # print(\"Text replaced\")\n",
        "  return data\n",
        "\n"
      ],
      "metadata": {
        "id": "8XRhYfbey1vh"
      },
      "execution_count": 13,
      "outputs": []
    },
    {
      "cell_type": "code",
      "source": [
        "final_out = read_file(r'/content/example.txt', 'placement', 'screening')\n",
        "final_out"
      ],
      "metadata": {
        "colab": {
          "base_uri": "https://localhost:8080/",
          "height": 36
        },
        "id": "7sMgqJYHzkAI",
        "outputId": "37af5f25-f9e9-4df3-b111-2a3e0a390682"
      },
      "execution_count": 14,
      "outputs": [
        {
          "output_type": "execute_result",
          "data": {
            "text/plain": [
              "'This is a screening assignment'"
            ],
            "application/vnd.google.colaboratory.intrinsic+json": {
              "type": "string"
            }
          },
          "metadata": {},
          "execution_count": 14
        }
      ]
    },
    {
      "cell_type": "markdown",
      "source": [
        "2. Demonstrate use of abstract class, multiple inheritance and decorator in\n",
        "python using examples."
      ],
      "metadata": {
        "id": "-a0HYaUa0nKX"
      }
    },
    {
      "cell_type": "markdown",
      "source": [
        "abstract class: By defining an abstract base class, you can define a common Application Program Interface(API) for a set of subclasses. This capability is especially useful in situations where a third-party is going to provide implementations, such as with plugins, but can also help you when working in a large team or with a large code-base where keeping all classes in your mind is difficult or not possible"
      ],
      "metadata": {
        "id": "LTPEjXufTYvj"
      }
    },
    {
      "cell_type": "code",
      "source": [
        "# ?eg of abstarct class\n",
        "\n",
        "from abc import ABC, abstractmethod\n",
        "\n",
        "class Polygon(ABC):\n",
        "\n",
        "\t@abstractmethod\n",
        "\tdef noofsides(self):\n",
        "\t\tpass\n",
        "\n",
        "class Triangle(Polygon):\n",
        "\n",
        "\t# overriding abstract method\n",
        "\tdef noofsides(self):\n",
        "\t\tprint(\"I have 3 sides\")\n",
        "\n",
        "class Pentagon(Polygon):\n",
        "\n",
        "\t# overriding abstract method\n",
        "\tdef noofsides(self):\n",
        "\t\tprint(\"I have 5 sides\")\n",
        "\n",
        "class Hexagon(Polygon):\n",
        "\n",
        "\t# overriding abstract method\n",
        "\tdef noofsides(self):\n",
        "\t\tprint(\"I have 6 sides\")\n",
        "\n",
        "class Quadrilateral(Polygon):\n",
        "\n",
        "\t# overriding abstract method\n",
        "\tdef noofsides(self):\n",
        "\t\tprint(\"I have 4 sides\")\n",
        "\n",
        "# Driver code\n",
        "R = Triangle()\n",
        "R.noofsides()\n",
        "\n",
        "K = Quadrilateral()\n",
        "K.noofsides()\n",
        "\n",
        "R = Pentagon()\n",
        "R.noofsides()\n",
        "\n",
        "K = Hexagon()\n",
        "K.noofsides()\n"
      ],
      "metadata": {
        "colab": {
          "base_uri": "https://localhost:8080/"
        },
        "id": "PXI2O5hZ0mjY",
        "outputId": "13e65ae6-4091-4aaf-8fff-61f832e63a83"
      },
      "execution_count": 16,
      "outputs": [
        {
          "output_type": "stream",
          "name": "stdout",
          "text": [
            "I have 3 sides\n",
            "I have 4 sides\n",
            "I have 5 sides\n",
            "I have 6 sides\n"
          ]
        }
      ]
    },
    {
      "cell_type": "markdown",
      "source": [
        "multiple inheritance : When a class is derived from more than one base class it is called multiple Inheritance. The derived class inherits all the features of the base case."
      ],
      "metadata": {
        "id": "t6xBJgx8Tsmh"
      }
    },
    {
      "cell_type": "code",
      "source": [
        "# Multiple inheritance\n",
        "\n",
        "class Class1:\n",
        "\tdef m(self):\n",
        "\t\tprint(\"In Class1\")\n",
        "\t\n",
        "class Class2(Class1):\n",
        "\tdef m(self):\n",
        "\t\tprint(\"In Class2\")\n",
        "\n",
        "class Class3(Class1):\n",
        "\tdef m(self):\n",
        "\t\tprint(\"In Class3\")\n",
        "\t\t\n",
        "class Class4(Class2, Class3):\n",
        "\tpass\n",
        "\t\n",
        "obj = Class4()\n",
        "obj.m()\n"
      ],
      "metadata": {
        "colab": {
          "base_uri": "https://localhost:8080/"
        },
        "id": "HOw4y6CgTqI9",
        "outputId": "6945206a-c25f-49c1-8439-1c5cb3114905"
      },
      "execution_count": 17,
      "outputs": [
        {
          "output_type": "stream",
          "name": "stdout",
          "text": [
            "In Class2\n"
          ]
        }
      ]
    },
    {
      "cell_type": "markdown",
      "source": [
        " Decorators : are a very powerful and useful tool in Python since it allows programmers to modify the behaviour of a function or class. Decorators allow us to wrap another function in order to extend the behaviour of the wrapped function, without permanently modifying it. But before diving deep into decorators let us understand some concepts that will come in handy in learning the decorator"
      ],
      "metadata": {
        "id": "xY0UnBoxUTNa"
      }
    },
    {
      "cell_type": "code",
      "source": [
        "# Python program to illustrate functions\n",
        "# can be treated as objects\n",
        "def shout(text):\n",
        "\treturn text.upper()\n",
        "\n",
        "print(shout('Hello'))\n",
        "\n",
        "yell = shout\n",
        "\n",
        "print(yell('Hello'))\n"
      ],
      "metadata": {
        "colab": {
          "base_uri": "https://localhost:8080/"
        },
        "id": "o5grZvs9UIeC",
        "outputId": "8a424846-a42c-4a34-a37e-a564acf54c41"
      },
      "execution_count": 19,
      "outputs": [
        {
          "output_type": "stream",
          "name": "stdout",
          "text": [
            "HELLO\n",
            "HELLO\n"
          ]
        }
      ]
    }
  ]
}